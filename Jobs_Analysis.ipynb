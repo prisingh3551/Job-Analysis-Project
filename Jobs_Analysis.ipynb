{
  "nbformat": 4,
  "nbformat_minor": 0,
  "metadata": {
    "colab": {
      "provenance": []
    },
    "kernelspec": {
      "name": "python3",
      "display_name": "Python 3"
    },
    "language_info": {
      "name": "python"
    }
  },
  "cells": [
    {
      "cell_type": "markdown",
      "source": [
        "# **Jobs Analysis Project**\n",
        "\n",
        "### **Overview**\n",
        "This project presents a detailed exploratory data analysis (EDA) on a dataset of job postings. The aim is to uncover insights about job roles, required experience, salary trends, and geographic distribution to better understand current hiring patterns in the market.\n",
        "\n",
        "### **Sample Data**\n",
        "Here us a preview of 5 random rows from the dataset to understand its structure:\n",
        "\n",
        "| Job Role                                   | Company                                   | Experience | Salary                    | Location                        | Rating | Posted On | Job Link                                                                                                                  |\n",
        "|-------------------------------------------|-------------------------------------------|------------|---------------------------|----------------------------------|--------|------------|---------------------------------------------------------------------------------------------------------------------------|\n",
        "| Business Sales Manager - Banca            | Lavya Associates                          | 5-10 Yrs   | 6,00,000 - 8,00,000 PA.   | Jorhat                           | -      | 6 Days Ago | [Link](https://www.naukri.com/job-listings-business-sales-manager-banca-life-insurance-jorhat-lavya-associates-6-days-ago-151122603989) |\n",
        "| HR Manager 1                               | Emerald Paper Products                     | 2-7 Yrs    | 1,75,000 - 2,50,000 PA.   | Hybrid - Mohanlalganj           | -      | 9 Days Ago | [Link](https://www.naukri.com/job-listings-hr-manager-1-emerald-paper-products-9-days-ago-301222003554)                 |\n",
        "| Executive- DevOps Engineer                | Rahi                                       | 3-8 Yrs    | Not disclosed             | Pune                             | -      | 5 Days Ago | [Link](https://www.naukri.com/job-listings-executive-devops-engineer-rahi-5-days-ago-201235001085)                      |\n",
        "| Operation Executive (Females Only)        | Eduworld Bangalore Educational Services   | 1-6 Yrs    | 1,25,000 - 2,50,000 PA.   | Trivandrum/Thiruvananthapuram   | -      | 3 Days Ago | [Link](https://www.naukri.com/job-listings-operation-executive-females-only-eduworld-bangalore-educational-services-3-days-ago-501230002198) |\n",
        "| Product Owner - Arcadis Gen               | Arcadis Consulting India Pvt. Ltd         | 4-7 Yrs    | Not disclosed             | Noida, Mumbai                    | 4.2    | 1 Day Ago  | [Link](https://www.naukri.com/job-listings-product-owner-arcadis-gen-arcadis-consulting-india-pvt-ltd-1-day-ago-701235001457)              |\n",
        "\n",
        "\n",
        "---\n",
        "\n",
        "### **Objectives**\n",
        "- Analyze job role demand, locations, and industries.\n",
        "- Explore experience and salary trends.\n",
        "- Identify hiring hotspots by geography.\n",
        "- Clean and structure raw job data.\n",
        "- Visualize key patterns and insights.\n",
        "- Create a reusable EDA workflow.\n",
        "- Prepare data for future ML applications.\n",
        "\n",
        "---\n",
        "\n",
        "### **Data Processing**\n",
        "- Dropped irrelevant columns (e.g. links, timestamps).\n",
        "- Removed duplicates and null values.\n",
        "- Cleaned and standardized experience and salary fields.\n",
        "- Split experience and salary ranges into numeric columns.\n",
        "- Filtered out inconsistent or malformed entries.\n",
        "\n",
        "---\n",
        "### **Key Insights**\n",
        "- **Top Job Roles**: Software Developer, Data Analyst, and Backend Engineer are the most frequently listed roles.\n",
        "- **High-Demand Locations**: Bangalore, Hyderabad, and Pune dominate job listings, highlighting tech industry hubs.\n",
        "- **Experience Trends**: Most jobs require **2–5 years** of experience, indicating strong demand for mid-level professionals.\n",
        "- **Salary Patterns**: Roles with higher experience levels show a wider and higher salary range, suggesting clear compensation growth.\n",
        "- **Data Quality**: Job postings vary in formatting; consistent data cleaning is essential for extracting reliable insights.\n",
        "\n",
        "---\n",
        "### **Visualizations**\n",
        "- **Top Job Roles**  \n",
        "  Bar plot showing the most frequent job titles.\n",
        "\n",
        "- **Top Locations**  \n",
        "  Bar plot highlighting cities with the highest job posting counts.\n",
        "\n",
        "- **Experience Required Distribution**  \n",
        "  Histogram or bar plot showing the distribution of required experience (in years).\n",
        "\n",
        "- **Salary Distribution**  \n",
        "  Histogram displaying the range of minimum and maximum salaries.\n",
        "\n",
        "- **Experience vs. Salary**  \n",
        "  Scatter plot illustrating the relationship between experience and salary range.\n",
        "\n",
        "---\n",
        "### **Technologies used**\n",
        "- **Python: ** Data manipulation and processing.\n",
        "- **Pandas: ** Efficient data handling.\n",
        "- **Matplotlib and Seaborn: ** Clear, insightful visualizations.\n",
        "\n",
        "---\n",
        "### **Future Enhancements**\n",
        "- Predictive modeling for salary estimations.\n",
        "- Deeper regional analysis of job availability.\n",
        "- Skill mapping refinement based on company-specific needs.\n",
        "---\n",
        "\n",
        "### **Authors**\n",
        "- **Priya Singh**"
      ],
      "metadata": {
        "id": "ClT-mUwaBM6J"
      }
    },
    {
      "cell_type": "markdown",
      "source": [
        "### 0. Loading the Data"
      ],
      "metadata": {
        "id": "NTENSAjj5cYB"
      }
    },
    {
      "cell_type": "code",
      "execution_count": null,
      "metadata": {
        "colab": {
          "base_uri": "https://localhost:8080/"
        },
        "id": "7tWxCQMX5DV-",
        "outputId": "66d523ae-af73-4de8-da80-e20af71a2ea6"
      },
      "outputs": [
        {
          "output_type": "stream",
          "name": "stdout",
          "text": [
            "Cloning into 'datasets'...\n",
            "remote: Enumerating objects: 328, done.\u001b[K\n",
            "remote: Counting objects: 100% (93/93), done.\u001b[K\n",
            "remote: Compressing objects: 100% (83/83), done.\u001b[K\n",
            "remote: Total 328 (delta 19), reused 54 (delta 9), pack-reused 235 (from 1)\u001b[K\n",
            "Receiving objects: 100% (328/328), 278.62 MiB | 17.66 MiB/s, done.\n",
            "Resolving deltas: 100% (145/145), done.\n",
            "Updating files: 100% (225/225), done.\n"
          ]
        }
      ],
      "source": [
        "!git clone https://github.com/AshishJangra27/datasets"
      ]
    },
    {
      "cell_type": "code",
      "source": [
        "import warnings\n",
        "warnings.filterwarnings('ignore')\n",
        "\n",
        "import pandas as pd\n",
        "df = pd.read_csv('/content/datasets/Job Postings/jobs.csv.zip')"
      ],
      "metadata": {
        "id": "lak7W-T55j0z"
      },
      "execution_count": 62,
      "outputs": []
    },
    {
      "cell_type": "markdown",
      "source": [
        "#### 1. Data Exploration"
      ],
      "metadata": {
        "id": "zcrypJvf_NbG"
      }
    },
    {
      "cell_type": "markdown",
      "source": [
        "This helps in getting a quick overview of the structure and content of the data."
      ],
      "metadata": {
        "id": "2Vf4tOuxHdOO"
      }
    },
    {
      "cell_type": "code",
      "source": [
        "df.head()\n",
        "df.tail()\n",
        "df.info()\n",
        "df.describe()"
      ],
      "metadata": {
        "collapsed": true,
        "id": "qkKEF-Ui8Sew",
        "colab": {
          "base_uri": "https://localhost:8080/",
          "height": 645
        },
        "outputId": "1634d50a-791f-4be0-c9d9-8ed8d97839ea"
      },
      "execution_count": 56,
      "outputs": [
        {
          "output_type": "stream",
          "name": "stdout",
          "text": [
            "<class 'pandas.core.frame.DataFrame'>\n",
            "RangeIndex: 79147 entries, 0 to 79146\n",
            "Data columns (total 12 columns):\n",
            " #   Column           Non-Null Count  Dtype  \n",
            "---  ------           --------------  -----  \n",
            " 0   job_id           78667 non-null  float64\n",
            " 1   job_role         78667 non-null  object \n",
            " 2   company          78666 non-null  object \n",
            " 3   experience       77398 non-null  object \n",
            " 4   salary           78667 non-null  object \n",
            " 5   location         77441 non-null  object \n",
            " 6   rating           42948 non-null  float64\n",
            " 7   reviews          42948 non-null  object \n",
            " 8   resposibilities  78647 non-null  object \n",
            " 9   posted_on        78667 non-null  object \n",
            " 10  job_link         78667 non-null  object \n",
            " 11  company_link     78667 non-null  object \n",
            "dtypes: float64(2), object(10)\n",
            "memory usage: 7.2+ MB\n"
          ]
        },
        {
          "output_type": "execute_result",
          "data": {
            "text/plain": [
              "             job_id        rating\n",
              "count  7.866700e+04  42948.000000\n",
              "mean   1.255071e+11      3.940144\n",
              "std    1.097464e+11      0.519211\n",
              "min    1.012200e+10      1.000000\n",
              "25%    4.012350e+10      3.700000\n",
              "50%    6.012350e+10      4.000000\n",
              "75%    2.610226e+11      4.200000\n",
              "max    3.112229e+11      5.000000"
            ],
            "text/html": [
              "\n",
              "  <div id=\"df-b6da7270-78a6-45be-b808-d33968c4923b\" class=\"colab-df-container\">\n",
              "    <div>\n",
              "<style scoped>\n",
              "    .dataframe tbody tr th:only-of-type {\n",
              "        vertical-align: middle;\n",
              "    }\n",
              "\n",
              "    .dataframe tbody tr th {\n",
              "        vertical-align: top;\n",
              "    }\n",
              "\n",
              "    .dataframe thead th {\n",
              "        text-align: right;\n",
              "    }\n",
              "</style>\n",
              "<table border=\"1\" class=\"dataframe\">\n",
              "  <thead>\n",
              "    <tr style=\"text-align: right;\">\n",
              "      <th></th>\n",
              "      <th>job_id</th>\n",
              "      <th>rating</th>\n",
              "    </tr>\n",
              "  </thead>\n",
              "  <tbody>\n",
              "    <tr>\n",
              "      <th>count</th>\n",
              "      <td>7.866700e+04</td>\n",
              "      <td>42948.000000</td>\n",
              "    </tr>\n",
              "    <tr>\n",
              "      <th>mean</th>\n",
              "      <td>1.255071e+11</td>\n",
              "      <td>3.940144</td>\n",
              "    </tr>\n",
              "    <tr>\n",
              "      <th>std</th>\n",
              "      <td>1.097464e+11</td>\n",
              "      <td>0.519211</td>\n",
              "    </tr>\n",
              "    <tr>\n",
              "      <th>min</th>\n",
              "      <td>1.012200e+10</td>\n",
              "      <td>1.000000</td>\n",
              "    </tr>\n",
              "    <tr>\n",
              "      <th>25%</th>\n",
              "      <td>4.012350e+10</td>\n",
              "      <td>3.700000</td>\n",
              "    </tr>\n",
              "    <tr>\n",
              "      <th>50%</th>\n",
              "      <td>6.012350e+10</td>\n",
              "      <td>4.000000</td>\n",
              "    </tr>\n",
              "    <tr>\n",
              "      <th>75%</th>\n",
              "      <td>2.610226e+11</td>\n",
              "      <td>4.200000</td>\n",
              "    </tr>\n",
              "    <tr>\n",
              "      <th>max</th>\n",
              "      <td>3.112229e+11</td>\n",
              "      <td>5.000000</td>\n",
              "    </tr>\n",
              "  </tbody>\n",
              "</table>\n",
              "</div>\n",
              "    <div class=\"colab-df-buttons\">\n",
              "\n",
              "  <div class=\"colab-df-container\">\n",
              "    <button class=\"colab-df-convert\" onclick=\"convertToInteractive('df-b6da7270-78a6-45be-b808-d33968c4923b')\"\n",
              "            title=\"Convert this dataframe to an interactive table.\"\n",
              "            style=\"display:none;\">\n",
              "\n",
              "  <svg xmlns=\"http://www.w3.org/2000/svg\" height=\"24px\" viewBox=\"0 -960 960 960\">\n",
              "    <path d=\"M120-120v-720h720v720H120Zm60-500h600v-160H180v160Zm220 220h160v-160H400v160Zm0 220h160v-160H400v160ZM180-400h160v-160H180v160Zm440 0h160v-160H620v160ZM180-180h160v-160H180v160Zm440 0h160v-160H620v160Z\"/>\n",
              "  </svg>\n",
              "    </button>\n",
              "\n",
              "  <style>\n",
              "    .colab-df-container {\n",
              "      display:flex;\n",
              "      gap: 12px;\n",
              "    }\n",
              "\n",
              "    .colab-df-convert {\n",
              "      background-color: #E8F0FE;\n",
              "      border: none;\n",
              "      border-radius: 50%;\n",
              "      cursor: pointer;\n",
              "      display: none;\n",
              "      fill: #1967D2;\n",
              "      height: 32px;\n",
              "      padding: 0 0 0 0;\n",
              "      width: 32px;\n",
              "    }\n",
              "\n",
              "    .colab-df-convert:hover {\n",
              "      background-color: #E2EBFA;\n",
              "      box-shadow: 0px 1px 2px rgba(60, 64, 67, 0.3), 0px 1px 3px 1px rgba(60, 64, 67, 0.15);\n",
              "      fill: #174EA6;\n",
              "    }\n",
              "\n",
              "    .colab-df-buttons div {\n",
              "      margin-bottom: 4px;\n",
              "    }\n",
              "\n",
              "    [theme=dark] .colab-df-convert {\n",
              "      background-color: #3B4455;\n",
              "      fill: #D2E3FC;\n",
              "    }\n",
              "\n",
              "    [theme=dark] .colab-df-convert:hover {\n",
              "      background-color: #434B5C;\n",
              "      box-shadow: 0px 1px 3px 1px rgba(0, 0, 0, 0.15);\n",
              "      filter: drop-shadow(0px 1px 2px rgba(0, 0, 0, 0.3));\n",
              "      fill: #FFFFFF;\n",
              "    }\n",
              "  </style>\n",
              "\n",
              "    <script>\n",
              "      const buttonEl =\n",
              "        document.querySelector('#df-b6da7270-78a6-45be-b808-d33968c4923b button.colab-df-convert');\n",
              "      buttonEl.style.display =\n",
              "        google.colab.kernel.accessAllowed ? 'block' : 'none';\n",
              "\n",
              "      async function convertToInteractive(key) {\n",
              "        const element = document.querySelector('#df-b6da7270-78a6-45be-b808-d33968c4923b');\n",
              "        const dataTable =\n",
              "          await google.colab.kernel.invokeFunction('convertToInteractive',\n",
              "                                                    [key], {});\n",
              "        if (!dataTable) return;\n",
              "\n",
              "        const docLinkHtml = 'Like what you see? Visit the ' +\n",
              "          '<a target=\"_blank\" href=https://colab.research.google.com/notebooks/data_table.ipynb>data table notebook</a>'\n",
              "          + ' to learn more about interactive tables.';\n",
              "        element.innerHTML = '';\n",
              "        dataTable['output_type'] = 'display_data';\n",
              "        await google.colab.output.renderOutput(dataTable, element);\n",
              "        const docLink = document.createElement('div');\n",
              "        docLink.innerHTML = docLinkHtml;\n",
              "        element.appendChild(docLink);\n",
              "      }\n",
              "    </script>\n",
              "  </div>\n",
              "\n",
              "\n",
              "    <div id=\"df-6f11cbba-35ec-4d7d-8352-72b119332eae\">\n",
              "      <button class=\"colab-df-quickchart\" onclick=\"quickchart('df-6f11cbba-35ec-4d7d-8352-72b119332eae')\"\n",
              "                title=\"Suggest charts\"\n",
              "                style=\"display:none;\">\n",
              "\n",
              "<svg xmlns=\"http://www.w3.org/2000/svg\" height=\"24px\"viewBox=\"0 0 24 24\"\n",
              "     width=\"24px\">\n",
              "    <g>\n",
              "        <path d=\"M19 3H5c-1.1 0-2 .9-2 2v14c0 1.1.9 2 2 2h14c1.1 0 2-.9 2-2V5c0-1.1-.9-2-2-2zM9 17H7v-7h2v7zm4 0h-2V7h2v10zm4 0h-2v-4h2v4z\"/>\n",
              "    </g>\n",
              "</svg>\n",
              "      </button>\n",
              "\n",
              "<style>\n",
              "  .colab-df-quickchart {\n",
              "      --bg-color: #E8F0FE;\n",
              "      --fill-color: #1967D2;\n",
              "      --hover-bg-color: #E2EBFA;\n",
              "      --hover-fill-color: #174EA6;\n",
              "      --disabled-fill-color: #AAA;\n",
              "      --disabled-bg-color: #DDD;\n",
              "  }\n",
              "\n",
              "  [theme=dark] .colab-df-quickchart {\n",
              "      --bg-color: #3B4455;\n",
              "      --fill-color: #D2E3FC;\n",
              "      --hover-bg-color: #434B5C;\n",
              "      --hover-fill-color: #FFFFFF;\n",
              "      --disabled-bg-color: #3B4455;\n",
              "      --disabled-fill-color: #666;\n",
              "  }\n",
              "\n",
              "  .colab-df-quickchart {\n",
              "    background-color: var(--bg-color);\n",
              "    border: none;\n",
              "    border-radius: 50%;\n",
              "    cursor: pointer;\n",
              "    display: none;\n",
              "    fill: var(--fill-color);\n",
              "    height: 32px;\n",
              "    padding: 0;\n",
              "    width: 32px;\n",
              "  }\n",
              "\n",
              "  .colab-df-quickchart:hover {\n",
              "    background-color: var(--hover-bg-color);\n",
              "    box-shadow: 0 1px 2px rgba(60, 64, 67, 0.3), 0 1px 3px 1px rgba(60, 64, 67, 0.15);\n",
              "    fill: var(--button-hover-fill-color);\n",
              "  }\n",
              "\n",
              "  .colab-df-quickchart-complete:disabled,\n",
              "  .colab-df-quickchart-complete:disabled:hover {\n",
              "    background-color: var(--disabled-bg-color);\n",
              "    fill: var(--disabled-fill-color);\n",
              "    box-shadow: none;\n",
              "  }\n",
              "\n",
              "  .colab-df-spinner {\n",
              "    border: 2px solid var(--fill-color);\n",
              "    border-color: transparent;\n",
              "    border-bottom-color: var(--fill-color);\n",
              "    animation:\n",
              "      spin 1s steps(1) infinite;\n",
              "  }\n",
              "\n",
              "  @keyframes spin {\n",
              "    0% {\n",
              "      border-color: transparent;\n",
              "      border-bottom-color: var(--fill-color);\n",
              "      border-left-color: var(--fill-color);\n",
              "    }\n",
              "    20% {\n",
              "      border-color: transparent;\n",
              "      border-left-color: var(--fill-color);\n",
              "      border-top-color: var(--fill-color);\n",
              "    }\n",
              "    30% {\n",
              "      border-color: transparent;\n",
              "      border-left-color: var(--fill-color);\n",
              "      border-top-color: var(--fill-color);\n",
              "      border-right-color: var(--fill-color);\n",
              "    }\n",
              "    40% {\n",
              "      border-color: transparent;\n",
              "      border-right-color: var(--fill-color);\n",
              "      border-top-color: var(--fill-color);\n",
              "    }\n",
              "    60% {\n",
              "      border-color: transparent;\n",
              "      border-right-color: var(--fill-color);\n",
              "    }\n",
              "    80% {\n",
              "      border-color: transparent;\n",
              "      border-right-color: var(--fill-color);\n",
              "      border-bottom-color: var(--fill-color);\n",
              "    }\n",
              "    90% {\n",
              "      border-color: transparent;\n",
              "      border-bottom-color: var(--fill-color);\n",
              "    }\n",
              "  }\n",
              "</style>\n",
              "\n",
              "      <script>\n",
              "        async function quickchart(key) {\n",
              "          const quickchartButtonEl =\n",
              "            document.querySelector('#' + key + ' button');\n",
              "          quickchartButtonEl.disabled = true;  // To prevent multiple clicks.\n",
              "          quickchartButtonEl.classList.add('colab-df-spinner');\n",
              "          try {\n",
              "            const charts = await google.colab.kernel.invokeFunction(\n",
              "                'suggestCharts', [key], {});\n",
              "          } catch (error) {\n",
              "            console.error('Error during call to suggestCharts:', error);\n",
              "          }\n",
              "          quickchartButtonEl.classList.remove('colab-df-spinner');\n",
              "          quickchartButtonEl.classList.add('colab-df-quickchart-complete');\n",
              "        }\n",
              "        (() => {\n",
              "          let quickchartButtonEl =\n",
              "            document.querySelector('#df-6f11cbba-35ec-4d7d-8352-72b119332eae button');\n",
              "          quickchartButtonEl.style.display =\n",
              "            google.colab.kernel.accessAllowed ? 'block' : 'none';\n",
              "        })();\n",
              "      </script>\n",
              "    </div>\n",
              "\n",
              "    </div>\n",
              "  </div>\n"
            ],
            "application/vnd.google.colaboratory.intrinsic+json": {
              "type": "dataframe",
              "summary": "{\n  \"name\": \"df\",\n  \"rows\": 8,\n  \"fields\": [\n    {\n      \"column\": \"job_id\",\n      \"properties\": {\n        \"dtype\": \"number\",\n        \"std\": 115143239046.40028,\n        \"min\": 78667.0,\n        \"max\": 311222904900.0,\n        \"num_unique_values\": 8,\n        \"samples\": [\n          125507120108.5823,\n          60123502101.0,\n          78667.0\n        ],\n        \"semantic_type\": \"\",\n        \"description\": \"\"\n      }\n    },\n    {\n      \"column\": \"rating\",\n      \"properties\": {\n        \"dtype\": \"number\",\n        \"std\": 15183.281784522547,\n        \"min\": 0.5192110664985025,\n        \"max\": 42948.0,\n        \"num_unique_values\": 8,\n        \"samples\": [\n          3.940143894942721,\n          4.0,\n          42948.0\n        ],\n        \"semantic_type\": \"\",\n        \"description\": \"\"\n      }\n    }\n  ]\n}"
            }
          },
          "metadata": {},
          "execution_count": 56
        }
      ]
    },
    {
      "cell_type": "markdown",
      "source": [
        "###### 1.1. Checking null values\n",
        "The dataset contains missing values across multiple columns.  \n",
        "- Critical job details like `job_id`, `job_role`, `salary`, and `job_link` each have 480 missing entries.  \n",
        "- `experience` and `location` have a larger number of missing values, with 1,749 and 1,706 respectively.  \n",
        "- Columns like `rating` and `reviews` have the highest missing counts, each with 36,199 nulls, indicating these fields are often not provided.  "
      ],
      "metadata": {
        "id": "AB6VYPvEAOxu"
      }
    },
    {
      "cell_type": "code",
      "source": [
        "df.isnull().sum()"
      ],
      "metadata": {
        "colab": {
          "base_uri": "https://localhost:8080/",
          "height": 460
        },
        "id": "WlMvGA4v_7aq",
        "outputId": "ab17f658-cb1f-43b3-b1a7-2a1fbeac7141"
      },
      "execution_count": 63,
      "outputs": [
        {
          "output_type": "execute_result",
          "data": {
            "text/plain": [
              "job_id               480\n",
              "job_role             480\n",
              "company              481\n",
              "experience          1749\n",
              "salary               480\n",
              "location            1706\n",
              "rating             36199\n",
              "reviews            36199\n",
              "resposibilities      500\n",
              "posted_on            480\n",
              "job_link             480\n",
              "company_link         480\n",
              "dtype: int64"
            ],
            "text/html": [
              "<div>\n",
              "<style scoped>\n",
              "    .dataframe tbody tr th:only-of-type {\n",
              "        vertical-align: middle;\n",
              "    }\n",
              "\n",
              "    .dataframe tbody tr th {\n",
              "        vertical-align: top;\n",
              "    }\n",
              "\n",
              "    .dataframe thead th {\n",
              "        text-align: right;\n",
              "    }\n",
              "</style>\n",
              "<table border=\"1\" class=\"dataframe\">\n",
              "  <thead>\n",
              "    <tr style=\"text-align: right;\">\n",
              "      <th></th>\n",
              "      <th>0</th>\n",
              "    </tr>\n",
              "  </thead>\n",
              "  <tbody>\n",
              "    <tr>\n",
              "      <th>job_id</th>\n",
              "      <td>480</td>\n",
              "    </tr>\n",
              "    <tr>\n",
              "      <th>job_role</th>\n",
              "      <td>480</td>\n",
              "    </tr>\n",
              "    <tr>\n",
              "      <th>company</th>\n",
              "      <td>481</td>\n",
              "    </tr>\n",
              "    <tr>\n",
              "      <th>experience</th>\n",
              "      <td>1749</td>\n",
              "    </tr>\n",
              "    <tr>\n",
              "      <th>salary</th>\n",
              "      <td>480</td>\n",
              "    </tr>\n",
              "    <tr>\n",
              "      <th>location</th>\n",
              "      <td>1706</td>\n",
              "    </tr>\n",
              "    <tr>\n",
              "      <th>rating</th>\n",
              "      <td>36199</td>\n",
              "    </tr>\n",
              "    <tr>\n",
              "      <th>reviews</th>\n",
              "      <td>36199</td>\n",
              "    </tr>\n",
              "    <tr>\n",
              "      <th>resposibilities</th>\n",
              "      <td>500</td>\n",
              "    </tr>\n",
              "    <tr>\n",
              "      <th>posted_on</th>\n",
              "      <td>480</td>\n",
              "    </tr>\n",
              "    <tr>\n",
              "      <th>job_link</th>\n",
              "      <td>480</td>\n",
              "    </tr>\n",
              "    <tr>\n",
              "      <th>company_link</th>\n",
              "      <td>480</td>\n",
              "    </tr>\n",
              "  </tbody>\n",
              "</table>\n",
              "</div><br><label><b>dtype:</b> int64</label>"
            ]
          },
          "metadata": {},
          "execution_count": 63
        }
      ]
    },
    {
      "cell_type": "markdown",
      "source": [
        "###### 1.2. Checking duplicate values"
      ],
      "metadata": {
        "id": "vKh3hSZ4AbxP"
      }
    },
    {
      "cell_type": "code",
      "source": [
        "df.columns\n",
        "\n",
        "df.duplicated(subset='job_id').sum()"
      ],
      "metadata": {
        "colab": {
          "base_uri": "https://localhost:8080/"
        },
        "collapsed": true,
        "id": "6R7NyaRWAV5k",
        "outputId": "0dc25d71-6a8c-4401-a754-ea28f9ac8352"
      },
      "execution_count": 64,
      "outputs": [
        {
          "output_type": "execute_result",
          "data": {
            "text/plain": [
              "np.int64(6137)"
            ]
          },
          "metadata": {},
          "execution_count": 64
        }
      ]
    },
    {
      "cell_type": "markdown",
      "source": [
        "##### 1.3. Remove unwanted data - posted_on, job_link, company_link"
      ],
      "metadata": {
        "id": "bfiDzgqhZ758"
      }
    },
    {
      "cell_type": "code",
      "source": [
        "del df['posted_on'], df['job_link'], df['company_link']"
      ],
      "metadata": {
        "collapsed": true,
        "id": "mMkKNbY1ald4"
      },
      "execution_count": 65,
      "outputs": []
    },
    {
      "cell_type": "markdown",
      "source": [
        "### 2. Data Cleaning"
      ],
      "metadata": {
        "id": "TqQztHO8BGtT"
      }
    },
    {
      "cell_type": "markdown",
      "source": [
        "##### 2.1. Dealing with null values\n",
        "\n",
        "- Dropped rows with nulls in `job_id`, `resposibilities`, and `company`  \n",
        "- Filled missing `experience` with `'5 - 10 Yrs'`  \n",
        "- Filled missing `location` with `'Bangalore/Bengaluru'`  \n",
        "- Filled missing `rating` with `0.0`  \n",
        "- Filled missing `reviews` with `'No reviews'`\n",
        "\n",
        "These steps ensure a cleaner and more consistent dataset for analysis."
      ],
      "metadata": {
        "id": "A6kkCl3VBLsa"
      }
    },
    {
      "cell_type": "code",
      "source": [
        "df.isnull().sum()\n",
        "\n",
        "df = df.dropna(subset = ['job_id', 'resposibilities', 'company'])\n",
        "\n",
        "df['experience'] = df['experience'].fillna('5 - 10 Yrs')\n",
        "df['location'] = df['location'].fillna('Bangalore/Bengaluru')\n",
        "df['rating'] = df['rating'].fillna(0.0)\n",
        "df['reviews'] = df['reviews'].fillna(\"No reviews\")"
      ],
      "metadata": {
        "id": "Asbt3EXba2vu"
      },
      "execution_count": 66,
      "outputs": []
    },
    {
      "cell_type": "markdown",
      "source": [
        "##### 2.2. Dealing with duplicate values\n",
        "\n",
        "- Removed duplicate rows based on the `job_id` column to ensure unique job listings."
      ],
      "metadata": {
        "id": "y7Kud76vBSZW"
      }
    },
    {
      "cell_type": "code",
      "source": [
        "df = df.drop_duplicates(subset = 'job_id')"
      ],
      "metadata": {
        "id": "0lwhDEnIuNp0"
      },
      "execution_count": 67,
      "outputs": []
    },
    {
      "cell_type": "markdown",
      "source": [
        "###### 2.3. Change data type of Job id\n",
        "- Converted `job_id` to integer and then back to string to standardize the format and remove any decimal points.\n"
      ],
      "metadata": {
        "id": "ZwmgqqWkBhbZ"
      }
    },
    {
      "cell_type": "code",
      "source": [
        "df['job_id'].astype('int').astype(str)"
      ],
      "metadata": {
        "collapsed": true,
        "id": "sy7QhFaZvbd7",
        "colab": {
          "base_uri": "https://localhost:8080/",
          "height": 458
        },
        "outputId": "a15aa18f-52b1-41cb-e925-78a7018ce88c"
      },
      "execution_count": 68,
      "outputs": [
        {
          "output_type": "execute_result",
          "data": {
            "text/plain": [
              "0         70123006070\n",
              "1         60123905908\n",
              "2         60123905898\n",
              "3         60123905897\n",
              "4         60123008332\n",
              "             ...     \n",
              "73762     20123002989\n",
              "73763     20123002957\n",
              "73764    231222003986\n",
              "73765    171220001449\n",
              "73766     71022008732\n",
              "Name: job_id, Length: 72988, dtype: object"
            ],
            "text/html": [
              "<div>\n",
              "<style scoped>\n",
              "    .dataframe tbody tr th:only-of-type {\n",
              "        vertical-align: middle;\n",
              "    }\n",
              "\n",
              "    .dataframe tbody tr th {\n",
              "        vertical-align: top;\n",
              "    }\n",
              "\n",
              "    .dataframe thead th {\n",
              "        text-align: right;\n",
              "    }\n",
              "</style>\n",
              "<table border=\"1\" class=\"dataframe\">\n",
              "  <thead>\n",
              "    <tr style=\"text-align: right;\">\n",
              "      <th></th>\n",
              "      <th>job_id</th>\n",
              "    </tr>\n",
              "  </thead>\n",
              "  <tbody>\n",
              "    <tr>\n",
              "      <th>0</th>\n",
              "      <td>70123006070</td>\n",
              "    </tr>\n",
              "    <tr>\n",
              "      <th>1</th>\n",
              "      <td>60123905908</td>\n",
              "    </tr>\n",
              "    <tr>\n",
              "      <th>2</th>\n",
              "      <td>60123905898</td>\n",
              "    </tr>\n",
              "    <tr>\n",
              "      <th>3</th>\n",
              "      <td>60123905897</td>\n",
              "    </tr>\n",
              "    <tr>\n",
              "      <th>4</th>\n",
              "      <td>60123008332</td>\n",
              "    </tr>\n",
              "    <tr>\n",
              "      <th>...</th>\n",
              "      <td>...</td>\n",
              "    </tr>\n",
              "    <tr>\n",
              "      <th>73762</th>\n",
              "      <td>20123002989</td>\n",
              "    </tr>\n",
              "    <tr>\n",
              "      <th>73763</th>\n",
              "      <td>20123002957</td>\n",
              "    </tr>\n",
              "    <tr>\n",
              "      <th>73764</th>\n",
              "      <td>231222003986</td>\n",
              "    </tr>\n",
              "    <tr>\n",
              "      <th>73765</th>\n",
              "      <td>171220001449</td>\n",
              "    </tr>\n",
              "    <tr>\n",
              "      <th>73766</th>\n",
              "      <td>71022008732</td>\n",
              "    </tr>\n",
              "  </tbody>\n",
              "</table>\n",
              "<p>72988 rows × 1 columns</p>\n",
              "</div><br><label><b>dtype:</b> object</label>"
            ]
          },
          "metadata": {},
          "execution_count": 68
        }
      ]
    },
    {
      "cell_type": "markdown",
      "source": [
        "##### 2.4. Clean Experience Column\n",
        "\n",
        "- Extracted `min_experience` and `max_experience` from the `experience` column by splitting the range.  \n",
        "- Removed the original `experience` column after creating the new fields."
      ],
      "metadata": {
        "id": "QWij1RM_Y9Rl"
      }
    },
    {
      "cell_type": "code",
      "source": [
        "df['min_experience'] = df['experience'].str.replace('Yrs', '').str.split('-').str[0].str.strip()\n",
        "df['max_experience'] = df['experience'].str.replace('Yrs', '').str.split('-').str[-1].str.strip()\n",
        "del df['experience']"
      ],
      "metadata": {
        "id": "q-ksGRB_wGPX"
      },
      "execution_count": 69,
      "outputs": []
    },
    {
      "cell_type": "markdown",
      "source": [
        "##### 2.5. Clean Salary Column\n",
        "- Cleaned the `salary` column and extracted `min_salary` and `max_salary` by splitting the range.  \n",
        "- Filtered out outliers like `'9.5 Cr and above'`, `'Less than 5000'`, and `'Less than 50000'`.  \n",
        "- Removed the original `salary` and intermediate `clean_salary` columns after processing.\n",
        "\n",
        "\n"
      ],
      "metadata": {
        "id": "lHvBJFAwZL2D"
      }
    },
    {
      "cell_type": "code",
      "source": [
        "df['clean_salary'] = df['salary'].str.replace(' PA.', '').str.replace(',', '').str.split('-').str[0].str.strip()\n",
        "\n",
        "df = df[(df['clean_salary'] != '9.5 Cr and above') & (df['clean_salary'] != 'Less than 5000') & (df['clean_salary'] != 'Less than 50000')]\n",
        "df['min_salary'] = df['clean_salary'].str.split('(').str[0].str.strip()\n",
        "del df['clean_salary']\n",
        "\n",
        "df['clean_salary'] = df['salary'].str.replace(' PA.', '').str.replace(',', '').str.split('-').str[1].str.split('(').str[0].str.strip()\n",
        "df = df[df['clean_salary'] != '9.5 Cr and above']\n",
        "df['max_salary'] = df['clean_salary'].fillna('Not disclosed')\n",
        "del df['clean_salary']\n",
        "\n",
        "del df['salary']"
      ],
      "metadata": {
        "collapsed": true,
        "id": "WHygtNu04PIF"
      },
      "execution_count": 70,
      "outputs": []
    },
    {
      "cell_type": "markdown",
      "source": [
        "##### 2.6. Clean Location Column\n",
        "- Cleaned the `location` column by removing \"(All Areas)\", standardizing delimiters, and formatting text.  \n",
        "- Created a new `clean_location` column containing a list of individual, cleaned location names."
      ],
      "metadata": {
        "id": "DyDYOokWZfyS"
      }
    },
    {
      "cell_type": "code",
      "source": [
        "df['clean_location'] = df['location'].str.replace(r'\\(All Areas\\)', '', regex=True).str.replace(',', '*').str.replace('/', '*').str.replace(' ', '').str.title().str.split('*')"
      ],
      "metadata": {
        "id": "1Ghm6ZJyxTZf"
      },
      "execution_count": 71,
      "outputs": []
    },
    {
      "cell_type": "markdown",
      "source": [
        "##### 2.7. Clean Reviews column\n",
        "- Removed the text \"Reviews\" and replaced \"No reviews\" with `0`.  \n",
        "- Converted the `reviews` column to integer type for easier analysis."
      ],
      "metadata": {
        "id": "TA1c78PSbiN5"
      }
    },
    {
      "cell_type": "code",
      "source": [
        "df['clean_reviews'] = df['reviews'].str.replace('Reviews', '').str.replace('No reviews', '0').str.strip()\n",
        "df['reviews'] = df['clean_reviews']\n",
        "\n",
        "df['reviews'] = df['reviews'].astype('int')\n",
        "del df['clean_reviews']"
      ],
      "metadata": {
        "id": "V0SzQPNwbhiq"
      },
      "execution_count": 72,
      "outputs": []
    },
    {
      "cell_type": "markdown",
      "source": [
        "### 3. Data Analysis"
      ],
      "metadata": {
        "id": "WiZ9KZGKwJbJ"
      }
    },
    {
      "cell_type": "markdown",
      "source": [
        "###### 3.1. Overall Analysis"
      ],
      "metadata": {
        "id": "80EVVg5JwVB6"
      }
    },
    {
      "cell_type": "code",
      "source": [
        "print('-'*50)\n",
        "print('Total unique Jobs          : ', df['job_id'].nunique())\n",
        "print('Total unique Companies     : ', df['company'].nunique())\n",
        "print('-'*50)"
      ],
      "metadata": {
        "id": "8YjVA4RdZLiR",
        "colab": {
          "base_uri": "https://localhost:8080/"
        },
        "outputId": "02c64d56-60cb-4928-b2d8-834eb6c42687"
      },
      "execution_count": 73,
      "outputs": [
        {
          "output_type": "stream",
          "name": "stdout",
          "text": [
            "--------------------------------------------------\n",
            "Total unique Jobs          :  72967\n",
            "Total unique Companies     :  15310\n",
            "--------------------------------------------------\n"
          ]
        }
      ]
    },
    {
      "cell_type": "markdown",
      "source": [
        "##### 3.2. Top 5 companies (Reviews)"
      ],
      "metadata": {
        "id": "U69CTwQdlQw_"
      }
    },
    {
      "cell_type": "code",
      "source": [
        "df['rating_review_filter'] = (df['rating'] * 0.01) + (df['reviews']* 0.09)\n",
        "df.groupby('company')['rating_review_filter'].min().sort_values(ascending=False).head()"
      ],
      "metadata": {
        "colab": {
          "base_uri": "https://localhost:8080/",
          "height": 272
        },
        "id": "YgQKXg6EkmyD",
        "outputId": "6fbd0e3f-3708-4bb7-e3e3-01e6ce91da10"
      },
      "execution_count": 74,
      "outputs": [
        {
          "output_type": "execute_result",
          "data": {
            "text/plain": [
              "company\n",
              "Tata Consultancy Services (TCS)    4514.709\n",
              "Reliance Industries (RIL)          3930.521\n",
              "Hdfc Bank                          3519.940\n",
              "Icici Bank                         3013.240\n",
              "Accenture                          2891.651\n",
              "Name: rating_review_filter, dtype: float64"
            ],
            "text/html": [
              "<div>\n",
              "<style scoped>\n",
              "    .dataframe tbody tr th:only-of-type {\n",
              "        vertical-align: middle;\n",
              "    }\n",
              "\n",
              "    .dataframe tbody tr th {\n",
              "        vertical-align: top;\n",
              "    }\n",
              "\n",
              "    .dataframe thead th {\n",
              "        text-align: right;\n",
              "    }\n",
              "</style>\n",
              "<table border=\"1\" class=\"dataframe\">\n",
              "  <thead>\n",
              "    <tr style=\"text-align: right;\">\n",
              "      <th></th>\n",
              "      <th>rating_review_filter</th>\n",
              "    </tr>\n",
              "    <tr>\n",
              "      <th>company</th>\n",
              "      <th></th>\n",
              "    </tr>\n",
              "  </thead>\n",
              "  <tbody>\n",
              "    <tr>\n",
              "      <th>Tata Consultancy Services (TCS)</th>\n",
              "      <td>4514.709</td>\n",
              "    </tr>\n",
              "    <tr>\n",
              "      <th>Reliance Industries (RIL)</th>\n",
              "      <td>3930.521</td>\n",
              "    </tr>\n",
              "    <tr>\n",
              "      <th>Hdfc Bank</th>\n",
              "      <td>3519.940</td>\n",
              "    </tr>\n",
              "    <tr>\n",
              "      <th>Icici Bank</th>\n",
              "      <td>3013.240</td>\n",
              "    </tr>\n",
              "    <tr>\n",
              "      <th>Accenture</th>\n",
              "      <td>2891.651</td>\n",
              "    </tr>\n",
              "  </tbody>\n",
              "</table>\n",
              "</div><br><label><b>dtype:</b> float64</label>"
            ]
          },
          "metadata": {},
          "execution_count": 74
        }
      ]
    },
    {
      "cell_type": "code",
      "source": [
        "# Add this code cell after the data analysis section\n",
        "\n",
        "import matplotlib.pyplot as plt\n",
        "\n",
        "# Prepare data for the pie chart\n",
        "company_reviews = df.groupby('company')['reviews'].min().sort_values(ascending=False).head(10)\n",
        "labels = company_reviews.index\n",
        "sizes = company_reviews.values\n",
        "\n",
        "# Define a list of blues color shades\n",
        "colors = plt.cm.Blues(sizes / max(sizes))\n",
        "\n",
        "# Create the pie chart and get the wedges and texts\n",
        "fig, ax = plt.subplots()\n",
        "wedges, texts, autotexts = ax.pie(sizes, labels=labels, autopct='%1.1f%%', startangle=90, colors=colors)\n",
        "ax.axis('equal')  # Equal aspect ratio ensures that pie is drawn as a circle.\n",
        "\n",
        "# Iterate through the percentage texts and set their color\n",
        "for autotext in autotexts:\n",
        "    autotext.set_color('white') # Set the color of the percentage text to white\n",
        "\n",
        "# Iterate through the label texts and set their color\n",
        "for text in texts:\n",
        "    text.set_color('black') # Set the color of the label text to black (or white if preferred)\n",
        "\n",
        "plt.title('Top 10 Companies by Reviews', fontsize=14, pad=20) # Added pad parameter\n",
        "plt.show()"
      ],
      "metadata": {
        "colab": {
          "base_uri": "https://localhost:8080/",
          "height": 453
        },
        "id": "6C1tIpSeyhJr",
        "outputId": "8e45d61a-a65e-427c-b173-0d99432b41f8"
      },
      "execution_count": 75,
      "outputs": [
        {
          "output_type": "display_data",
          "data": {
            "text/plain": [
              "<Figure size 640x480 with 1 Axes>"
            ],
            "image/png": "[encoded data removed]"
          },
          "metadata": {}
        }
      ]
    },
    {
      "cell_type": "code",
      "source": [
        "# Add this code cell after the data analysis section\n",
        "\n",
        "import plotly.express as px\n",
        "\n",
        "# Prepare data for the interactive pie chart\n",
        "company_reviews = df.groupby('company')['reviews'].min().sort_values(ascending=False).head(10).reset_index()\n",
        "company_reviews.columns = ['company', 'reviews']\n",
        "\n",
        "# Sort data by reviews in descending order to assign darker shades to higher values\n",
        "company_reviews = company_reviews.sort_values(by='reviews', ascending=False)\n",
        "\n",
        "# Create the interactive pie chart with Plotly and specify a blue color scale\n",
        "fig = px.pie(company_reviews,\n",
        "             values='reviews',\n",
        "             names='company',\n",
        "             title='Top 10 Companies by Reviews',\n",
        "             color_discrete_sequence=px.colors.sequential.Blues) # Use sequential blue colors\n",
        "\n",
        "fig.show()"
      ],
      "metadata": {
        "colab": {
          "base_uri": "https://localhost:8080/",
          "height": 542
        },
        "id": "CcBDSQi-0SGX",
        "outputId": "6b622716-d916-4233-fe96-75cbad4e4db1"
      },
      "execution_count": 50,
      "outputs": [
        {
          "output_type": "display_data",
          "data": {
            "text/html": [
              "<html>\n",
              "<head><meta charset=\"utf-8\" /></head>\n",
              "<body>\n",
              "    <div>            <script src=\"https://cdnjs.cloudflare.com/ajax/libs/mathjax/2.7.5/MathJax.js?config=TeX-AMS-MML_SVG\"></script><script type=\"text/javascript\">if (window.MathJax && window.MathJax.Hub && window.MathJax.Hub.Config) {window.MathJax.Hub.Config({SVG: {font: \"STIX-Web\"}});}</script>                <script type=\"text/javascript\">window.PlotlyConfig = {MathJaxConfig: 'local'};</script>\n",
              "        <script charset=\"utf-8\" src=\"https://cdn.plot.ly/plotly-2.35.2.min.js\"></script>                <div id=\"fce274c3-50e7-4a91-b39a-ce23af4cb15b\" class=\"plotly-graph-div\" style=\"height:525px; width:100%;\"></div>            <script type=\"text/javascript\">                                    window.PLOTLYENV=window.PLOTLYENV || {};                                    if (document.getElementById(\"fce274c3-50e7-4a91-b39a-ce23af4cb15b\")) {                    Plotly.newPlot(                        \"fce274c3-50e7-4a91-b39a-ce23af4cb15b\",                        [{\"domain\":{\"x\":[0.0,1.0],\"y\":[0.0,1.0]},\"hovertemplate\":\"company=%{label}\\u003cbr\\u003ereviews=%{value}\\u003cextra\\u003e\\u003c\\u002fextra\\u003e\",\"labels\":[\"Tata Consultancy Services (TCS)\",\"Reliance Industries (RIL)\",\"Hdfc Bank\",\"Icici Bank\",\"Accenture\",\"L & T Infrastructure Engineering Limited\",\"Larsen & Toubro (L&T)\",\"L&T Infrastructure Engineering Limited\",\"L&T Technology Services\",\"Capgemini\"],\"legendgroup\":\"\",\"name\":\"\",\"showlegend\":true,\"values\":[50163,43672,39110,33480,32129,24041,24041,24041,24022,23786],\"type\":\"pie\"}],                        {\"template\":{\"data\":{\"histogram2dcontour\":[{\"type\":\"histogram2dcontour\",\"colorbar\":{\"outlinewidth\":0,\"ticks\":\"\"},\"colorscale\":[[0.0,\"#0d0887\"],[0.1111111111111111,\"#46039f\"],[0.2222222222222222,\"#7201a8\"],[0.3333333333333333,\"#9c179e\"],[0.4444444444444444,\"#bd3786\"],[0.5555555555555556,\"#d8576b\"],[0.6666666666666666,\"#ed7953\"],[0.7777777777777778,\"#fb9f3a\"],[0.8888888888888888,\"#fdca26\"],[1.0,\"#f0f921\"]]}],\"choropleth\":[{\"type\":\"choropleth\",\"colorbar\":{\"outlinewidth\":0,\"ticks\":\"\"}}],\"histogram2d\":[{\"type\":\"histogram2d\",\"colorbar\":{\"outlinewidth\":0,\"ticks\":\"\"},\"colorscale\":[[0.0,\"#0d0887\"],[0.1111111111111111,\"#46039f\"],[0.2222222222222222,\"#7201a8\"],[0.3333333333333333,\"#9c179e\"],[0.4444444444444444,\"#bd3786\"],[0.5555555555555556,\"#d8576b\"],[0.6666666666666666,\"#ed7953\"],[0.7777777777777778,\"#fb9f3a\"],[0.8888888888888888,\"#fdca26\"],[1.0,\"#f0f921\"]]}],\"heatmap\":[{\"type\":\"heatmap\",\"colorbar\":{\"outlinewidth\":0,\"ticks\":\"\"},\"colorscale\":[[0.0,\"#0d0887\"],[0.1111111111111111,\"#46039f\"],[0.2222222222222222,\"#7201a8\"],[0.3333333333333333,\"#9c179e\"],[0.4444444444444444,\"#bd3786\"],[0.5555555555555556,\"#d8576b\"],[0.6666666666666666,\"#ed7953\"],[0.7777777777777778,\"#fb9f3a\"],[0.8888888888888888,\"#fdca26\"],[1.0,\"#f0f921\"]]}],\"heatmapgl\":[{\"type\":\"heatmapgl\",\"colorbar\":{\"outlinewidth\":0,\"ticks\":\"\"},\"colorscale\":[[0.0,\"#0d0887\"],[0.1111111111111111,\"#46039f\"],[0.2222222222222222,\"#7201a8\"],[0.3333333333333333,\"#9c179e\"],[0.4444444444444444,\"#bd3786\"],[0.5555555555555556,\"#d8576b\"],[0.6666666666666666,\"#ed7953\"],[0.7777777777777778,\"#fb9f3a\"],[0.8888888888888888,\"#fdca26\"],[1.0,\"#f0f921\"]]}],\"contourcarpet\":[{\"type\":\"contourcarpet\",\"colorbar\":{\"outlinewidth\":0,\"ticks\":\"\"}}],\"contour\":[{\"type\":\"contour\",\"colorbar\":{\"outlinewidth\":0,\"ticks\":\"\"},\"colorscale\":[[0.0,\"#0d0887\"],[0.1111111111111111,\"#46039f\"],[0.2222222222222222,\"#7201a8\"],[0.3333333333333333,\"#9c179e\"],[0.4444444444444444,\"#bd3786\"],[0.5555555555555556,\"#d8576b\"],[0.6666666666666666,\"#ed7953\"],[0.7777777777777778,\"#fb9f3a\"],[0.8888888888888888,\"#fdca26\"],[1.0,\"#f0f921\"]]}],\"surface\":[{\"type\":\"surface\",\"colorbar\":{\"outlinewidth\":0,\"ticks\":\"\"},\"colorscale\":[[0.0,\"#0d0887\"],[0.1111111111111111,\"#46039f\"],[0.2222222222222222,\"#7201a8\"],[0.3333333333333333,\"#9c179e\"],[0.4444444444444444,\"#bd3786\"],[0.5555555555555556,\"#d8576b\"],[0.6666666666666666,\"#ed7953\"],[0.7777777777777778,\"#fb9f3a\"],[0.8888888888888888,\"#fdca26\"],[1.0,\"#f0f921\"]]}],\"mesh3d\":[{\"type\":\"mesh3d\",\"colorbar\":{\"outlinewidth\":0,\"ticks\":\"\"}}],\"scatter\":[{\"fillpattern\":{\"fillmode\":\"overlay\",\"size\":10,\"solidity\":0.2},\"type\":\"scatter\"}],\"parcoords\":[{\"type\":\"parcoords\",\"line\":{\"colorbar\":{\"outlinewidth\":0,\"ticks\":\"\"}}}],\"scatterpolargl\":[{\"type\":\"scatterpolargl\",\"marker\":{\"colorbar\":{\"outlinewidth\":0,\"ticks\":\"\"}}}],\"bar\":[{\"error_x\":{\"color\":\"#2a3f5f\"},\"error_y\":{\"color\":\"#2a3f5f\"},\"marker\":{\"line\":{\"color\":\"#E5ECF6\",\"width\":0.5},\"pattern\":{\"fillmode\":\"overlay\",\"size\":10,\"solidity\":0.2}},\"type\":\"bar\"}],\"scattergeo\":[{\"type\":\"scattergeo\",\"marker\":{\"colorbar\":{\"outlinewidth\":0,\"ticks\":\"\"}}}],\"scatterpolar\":[{\"type\":\"scatterpolar\",\"marker\":{\"colorbar\":{\"outlinewidth\":0,\"ticks\":\"\"}}}],\"histogram\":[{\"marker\":{\"pattern\":{\"fillmode\":\"overlay\",\"size\":10,\"solidity\":0.2}},\"type\":\"histogram\"}],\"scattergl\":[{\"type\":\"scattergl\",\"marker\":{\"colorbar\":{\"outlinewidth\":0,\"ticks\":\"\"}}}],\"scatter3d\":[{\"type\":\"scatter3d\",\"line\":{\"colorbar\":{\"outlinewidth\":0,\"ticks\":\"\"}},\"marker\":{\"colorbar\":{\"outlinewidth\":0,\"ticks\":\"\"}}}],\"scattermapbox\":[{\"type\":\"scattermapbox\",\"marker\":{\"colorbar\":{\"outlinewidth\":0,\"ticks\":\"\"}}}],\"scatterternary\":[{\"type\":\"scatterternary\",\"marker\":{\"colorbar\":{\"outlinewidth\":0,\"ticks\":\"\"}}}],\"scattercarpet\":[{\"type\":\"scattercarpet\",\"marker\":{\"colorbar\":{\"outlinewidth\":0,\"ticks\":\"\"}}}],\"carpet\":[{\"aaxis\":{\"endlinecolor\":\"#2a3f5f\",\"gridcolor\":\"white\",\"linecolor\":\"white\",\"minorgridcolor\":\"white\",\"startlinecolor\":\"#2a3f5f\"},\"baxis\":{\"endlinecolor\":\"#2a3f5f\",\"gridcolor\":\"white\",\"linecolor\":\"white\",\"minorgridcolor\":\"white\",\"startlinecolor\":\"#2a3f5f\"},\"type\":\"carpet\"}],\"table\":[{\"cells\":{\"fill\":{\"color\":\"#EBF0F8\"},\"line\":{\"color\":\"white\"}},\"header\":{\"fill\":{\"color\":\"#C8D4E3\"},\"line\":{\"color\":\"white\"}},\"type\":\"table\"}],\"barpolar\":[{\"marker\":{\"line\":{\"color\":\"#E5ECF6\",\"width\":0.5},\"pattern\":{\"fillmode\":\"overlay\",\"size\":10,\"solidity\":0.2}},\"type\":\"barpolar\"}],\"pie\":[{\"automargin\":true,\"type\":\"pie\"}]},\"layout\":{\"autotypenumbers\":\"strict\",\"colorway\":[\"#636efa\",\"#EF553B\",\"#00cc96\",\"#ab63fa\",\"#FFA15A\",\"#19d3f3\",\"#FF6692\",\"#B6E880\",\"#FF97FF\",\"#FECB52\"],\"font\":{\"color\":\"#2a3f5f\"},\"hovermode\":\"closest\",\"hoverlabel\":{\"align\":\"left\"},\"paper_bgcolor\":\"white\",\"plot_bgcolor\":\"#E5ECF6\",\"polar\":{\"bgcolor\":\"#E5ECF6\",\"angularaxis\":{\"gridcolor\":\"white\",\"linecolor\":\"white\",\"ticks\":\"\"},\"radialaxis\":{\"gridcolor\":\"white\",\"linecolor\":\"white\",\"ticks\":\"\"}},\"ternary\":{\"bgcolor\":\"#E5ECF6\",\"aaxis\":{\"gridcolor\":\"white\",\"linecolor\":\"white\",\"ticks\":\"\"},\"baxis\":{\"gridcolor\":\"white\",\"linecolor\":\"white\",\"ticks\":\"\"},\"caxis\":{\"gridcolor\":\"white\",\"linecolor\":\"white\",\"ticks\":\"\"}},\"coloraxis\":{\"colorbar\":{\"outlinewidth\":0,\"ticks\":\"\"}},\"colorscale\":{\"sequential\":[[0.0,\"#0d0887\"],[0.1111111111111111,\"#46039f\"],[0.2222222222222222,\"#7201a8\"],[0.3333333333333333,\"#9c179e\"],[0.4444444444444444,\"#bd3786\"],[0.5555555555555556,\"#d8576b\"],[0.6666666666666666,\"#ed7953\"],[0.7777777777777778,\"#fb9f3a\"],[0.8888888888888888,\"#fdca26\"],[1.0,\"#f0f921\"]],\"sequentialminus\":[[0.0,\"#0d0887\"],[0.1111111111111111,\"#46039f\"],[0.2222222222222222,\"#7201a8\"],[0.3333333333333333,\"#9c179e\"],[0.4444444444444444,\"#bd3786\"],[0.5555555555555556,\"#d8576b\"],[0.6666666666666666,\"#ed7953\"],[0.7777777777777778,\"#fb9f3a\"],[0.8888888888888888,\"#fdca26\"],[1.0,\"#f0f921\"]],\"diverging\":[[0,\"#8e0152\"],[0.1,\"#c51b7d\"],[0.2,\"#de77ae\"],[0.3,\"#f1b6da\"],[0.4,\"#fde0ef\"],[0.5,\"#f7f7f7\"],[0.6,\"#e6f5d0\"],[0.7,\"#b8e186\"],[0.8,\"#7fbc41\"],[0.9,\"#4d9221\"],[1,\"#276419\"]]},\"xaxis\":{\"gridcolor\":\"white\",\"linecolor\":\"white\",\"ticks\":\"\",\"title\":{\"standoff\":15},\"zerolinecolor\":\"white\",\"automargin\":true,\"zerolinewidth\":2},\"yaxis\":{\"gridcolor\":\"white\",\"linecolor\":\"white\",\"ticks\":\"\",\"title\":{\"standoff\":15},\"zerolinecolor\":\"white\",\"automargin\":true,\"zerolinewidth\":2},\"scene\":{\"xaxis\":{\"backgroundcolor\":\"#E5ECF6\",\"gridcolor\":\"white\",\"linecolor\":\"white\",\"showbackground\":true,\"ticks\":\"\",\"zerolinecolor\":\"white\",\"gridwidth\":2},\"yaxis\":{\"backgroundcolor\":\"#E5ECF6\",\"gridcolor\":\"white\",\"linecolor\":\"white\",\"showbackground\":true,\"ticks\":\"\",\"zerolinecolor\":\"white\",\"gridwidth\":2},\"zaxis\":{\"backgroundcolor\":\"#E5ECF6\",\"gridcolor\":\"white\",\"linecolor\":\"white\",\"showbackground\":true,\"ticks\":\"\",\"zerolinecolor\":\"white\",\"gridwidth\":2}},\"shapedefaults\":{\"line\":{\"color\":\"#2a3f5f\"}},\"annotationdefaults\":{\"arrowcolor\":\"#2a3f5f\",\"arrowhead\":0,\"arrowwidth\":1},\"geo\":{\"bgcolor\":\"white\",\"landcolor\":\"#E5ECF6\",\"subunitcolor\":\"white\",\"showland\":true,\"showlakes\":true,\"lakecolor\":\"white\"},\"title\":{\"x\":0.05},\"mapbox\":{\"style\":\"light\"}}},\"legend\":{\"tracegroupgap\":0},\"title\":{\"text\":\"Top 10 Companies by Reviews\"},\"piecolorway\":[\"rgb(247,251,255)\",\"rgb(222,235,247)\",\"rgb(198,219,239)\",\"rgb(158,202,225)\",\"rgb(107,174,214)\",\"rgb(66,146,198)\",\"rgb(33,113,181)\",\"rgb(8,81,156)\",\"rgb(8,48,107)\"]},                        {\"responsive\": true}                    ).then(function(){\n",
              "                            \n",
              "var gd = document.getElementById('fce274c3-50e7-4a91-b39a-ce23af4cb15b');\n",
              "var x = new MutationObserver(function (mutations, observer) {{\n",
              "        var display = window.getComputedStyle(gd).display;\n",
              "        if (!display || display === 'none') {{\n",
              "            console.log([gd, 'removed!']);\n",
              "            Plotly.purge(gd);\n",
              "            observer.disconnect();\n",
              "        }}\n",
              "}});\n",
              "\n",
              "// Listen for the removal of the full notebook cells\n",
              "var notebookContainer = gd.closest('#notebook-container');\n",
              "if (notebookContainer) {{\n",
              "    x.observe(notebookContainer, {childList: true});\n",
              "}}\n",
              "\n",
              "// Listen for the clearing of the current output cell\n",
              "var outputEl = gd.closest('.output');\n",
              "if (outputEl) {{\n",
              "    x.observe(outputEl, {childList: true});\n",
              "}}\n",
              "\n",
              "                        })                };                            </script>        </div>\n",
              "</body>\n",
              "</html>"
            ]
          },
          "metadata": {}
        }
      ]
    },
    {
      "cell_type": "code",
      "source": [
        "len(df[df['job_role'] == 'Data Analyst'])"
      ],
      "metadata": {
        "colab": {
          "base_uri": "https://localhost:8080/"
        },
        "id": "piTx33CviFIk",
        "outputId": "e43e1247-0ee6-40a4-ffd3-8d3643bf23f5"
      },
      "execution_count": null,
      "outputs": [
        {
          "output_type": "execute_result",
          "data": {
            "text/plain": [
              "59"
            ]
          },
          "metadata": {},
          "execution_count": 65
        }
      ]
    },
    {
      "cell_type": "markdown",
      "source": [
        "##### 3.3. Skills needed for almost all the jobs"
      ],
      "metadata": {
        "id": "J2mvGle-oc81"
      }
    },
    {
      "cell_type": "code",
      "source": [
        "df['resposibilities'].str.lower().str.split(',').explode().value_counts().head(10)"
      ],
      "metadata": {
        "id": "Y0lyjHm4hQn0",
        "colab": {
          "base_uri": "https://localhost:8080/",
          "height": 429
        },
        "outputId": "ce2c25de-4e00-462d-86ce-687a22ff2a57"
      },
      "execution_count": 49,
      "outputs": [
        {
          "output_type": "execute_result",
          "data": {
            "text/plain": [
              "resposibilities\n",
              "sales               5851\n",
              "communication       3482\n",
              "agency              3450\n",
              "tied                3310\n",
              "customer service    3276\n",
              "training            3177\n",
              "team handling       2617\n",
              "javascript          2607\n",
              "agency channel      2549\n",
              "java                2513\n",
              "Name: count, dtype: int64"
            ],
            "text/html": [
              "<div>\n",
              "<style scoped>\n",
              "    .dataframe tbody tr th:only-of-type {\n",
              "        vertical-align: middle;\n",
              "    }\n",
              "\n",
              "    .dataframe tbody tr th {\n",
              "        vertical-align: top;\n",
              "    }\n",
              "\n",
              "    .dataframe thead th {\n",
              "        text-align: right;\n",
              "    }\n",
              "</style>\n",
              "<table border=\"1\" class=\"dataframe\">\n",
              "  <thead>\n",
              "    <tr style=\"text-align: right;\">\n",
              "      <th></th>\n",
              "      <th>count</th>\n",
              "    </tr>\n",
              "    <tr>\n",
              "      <th>resposibilities</th>\n",
              "      <th></th>\n",
              "    </tr>\n",
              "  </thead>\n",
              "  <tbody>\n",
              "    <tr>\n",
              "      <th>sales</th>\n",
              "      <td>5851</td>\n",
              "    </tr>\n",
              "    <tr>\n",
              "      <th>communication</th>\n",
              "      <td>3482</td>\n",
              "    </tr>\n",
              "    <tr>\n",
              "      <th>agency</th>\n",
              "      <td>3450</td>\n",
              "    </tr>\n",
              "    <tr>\n",
              "      <th>tied</th>\n",
              "      <td>3310</td>\n",
              "    </tr>\n",
              "    <tr>\n",
              "      <th>customer service</th>\n",
              "      <td>3276</td>\n",
              "    </tr>\n",
              "    <tr>\n",
              "      <th>training</th>\n",
              "      <td>3177</td>\n",
              "    </tr>\n",
              "    <tr>\n",
              "      <th>team handling</th>\n",
              "      <td>2617</td>\n",
              "    </tr>\n",
              "    <tr>\n",
              "      <th>javascript</th>\n",
              "      <td>2607</td>\n",
              "    </tr>\n",
              "    <tr>\n",
              "      <th>agency channel</th>\n",
              "      <td>2549</td>\n",
              "    </tr>\n",
              "    <tr>\n",
              "      <th>java</th>\n",
              "      <td>2513</td>\n",
              "    </tr>\n",
              "  </tbody>\n",
              "</table>\n",
              "</div><br><label><b>dtype:</b> int64</label>"
            ]
          },
          "metadata": {},
          "execution_count": 49
        }
      ]
    },
    {
      "cell_type": "code",
      "source": [
        "# Add this code cell after the skills analysis section\n",
        "\n",
        "import matplotlib.pyplot as plt\n",
        "import numpy as np # Import numpy for color mapping\n",
        "\n",
        "# Prepare data for the bar chart: Top 10 skills\n",
        "top_skills = df['resposibilities'].str.lower().str.split(',').explode().value_counts().head(10)\n",
        "\n",
        "# Generate a list of blue shades using a colormap\n",
        "colors = plt.cm.Blues(np.linspace(0.4, 0.8, len(top_skills))) # Generate shades from a colormap\n",
        "\n",
        "# Create the bar chart with Matplotlib and specify a list of colors\n",
        "plt.figure(figsize=(10, 6))\n",
        "top_skills.plot(kind='bar', color=colors) # Use the 'colors' variable calculated with Matplotlib's colormap\n",
        "\n",
        "plt.title('Top 10 Most Frequent Skills')\n",
        "plt.xlabel('Skill')\n",
        "plt.ylabel('Count')\n",
        "plt.xticks(rotation=45, ha='right')\n",
        "plt.tight_layout()\n",
        "plt.show()"
      ],
      "metadata": {
        "colab": {
          "base_uri": "https://localhost:8080/",
          "height": 526
        },
        "id": "cAyIZxNr2nAz",
        "outputId": "9f7287c2-6fed-46ca-d404-29abaede78f3"
      },
      "execution_count": null,
      "outputs": [
        {
          "output_type": "display_data",
          "data": {
            "text/plain": [
              "<Figure size 1000x600 with 1 Axes>"
            ],
            "image/png": "[encoded data removed]"
          },
          "metadata": {}
        }
      ]
    },
    {
      "cell_type": "markdown",
      "source": [
        "##### 3.3. Skills needed to get hired at HDFC bank"
      ],
      "metadata": {
        "id": "riEpmQsgpXnc"
      }
    },
    {
      "cell_type": "code",
      "source": [
        "df[df['company'] == 'Hdfc Bank']['resposibilities'].str.lower().str.split(',').explode().value_counts().head(10)"
      ],
      "metadata": {
        "id": "WF4wZ2s0pXSF",
        "colab": {
          "base_uri": "https://localhost:8080/",
          "height": 429
        },
        "outputId": "120500e8-ec85-4394-f645-b58b396fb553"
      },
      "execution_count": 45,
      "outputs": [
        {
          "output_type": "execute_result",
          "data": {
            "text/plain": [
              "resposibilities\n",
              "portfolio management       8\n",
              "cross selling              7\n",
              "sales                      6\n",
              "relationship management    6\n",
              "banking                    5\n",
              "customer service           4\n",
              "casa                       4\n",
              "hni client handling        4\n",
              "retail branch banking      4\n",
              "finance                    3\n",
              "Name: count, dtype: int64"
            ],
            "text/html": [
              "<div>\n",
              "<style scoped>\n",
              "    .dataframe tbody tr th:only-of-type {\n",
              "        vertical-align: middle;\n",
              "    }\n",
              "\n",
              "    .dataframe tbody tr th {\n",
              "        vertical-align: top;\n",
              "    }\n",
              "\n",
              "    .dataframe thead th {\n",
              "        text-align: right;\n",
              "    }\n",
              "</style>\n",
              "<table border=\"1\" class=\"dataframe\">\n",
              "  <thead>\n",
              "    <tr style=\"text-align: right;\">\n",
              "      <th></th>\n",
              "      <th>count</th>\n",
              "    </tr>\n",
              "    <tr>\n",
              "      <th>resposibilities</th>\n",
              "      <th></th>\n",
              "    </tr>\n",
              "  </thead>\n",
              "  <tbody>\n",
              "    <tr>\n",
              "      <th>portfolio management</th>\n",
              "      <td>8</td>\n",
              "    </tr>\n",
              "    <tr>\n",
              "      <th>cross selling</th>\n",
              "      <td>7</td>\n",
              "    </tr>\n",
              "    <tr>\n",
              "      <th>sales</th>\n",
              "      <td>6</td>\n",
              "    </tr>\n",
              "    <tr>\n",
              "      <th>relationship management</th>\n",
              "      <td>6</td>\n",
              "    </tr>\n",
              "    <tr>\n",
              "      <th>banking</th>\n",
              "      <td>5</td>\n",
              "    </tr>\n",
              "    <tr>\n",
              "      <th>customer service</th>\n",
              "      <td>4</td>\n",
              "    </tr>\n",
              "    <tr>\n",
              "      <th>casa</th>\n",
              "      <td>4</td>\n",
              "    </tr>\n",
              "    <tr>\n",
              "      <th>hni client handling</th>\n",
              "      <td>4</td>\n",
              "    </tr>\n",
              "    <tr>\n",
              "      <th>retail branch banking</th>\n",
              "      <td>4</td>\n",
              "    </tr>\n",
              "    <tr>\n",
              "      <th>finance</th>\n",
              "      <td>3</td>\n",
              "    </tr>\n",
              "  </tbody>\n",
              "</table>\n",
              "</div><br><label><b>dtype:</b> int64</label>"
            ]
          },
          "metadata": {},
          "execution_count": 45
        }
      ]
    },
    {
      "cell_type": "code",
      "source": [
        "import matplotlib.pyplot as plt\n",
        "import numpy as np  # For color mapping\n",
        "\n",
        "# Filter for HDFC Bank and extract top 10 most frequent skills\n",
        "top_skills_hdfc = df[df['company'] == 'Hdfc Bank']['resposibilities'] \\\n",
        "                    .str.lower().str.split(',').explode().value_counts().head(10)\n",
        "\n",
        "# Generate a list of blue shades using a colormap\n",
        "colors = plt.cm.Blues(np.linspace(0.4, 0.8, len(top_skills_hdfc)))\n",
        "\n",
        "# Create the bar chart\n",
        "plt.figure(figsize=(10, 6))\n",
        "top_skills_hdfc.plot(kind='bar', color=colors)\n",
        "\n",
        "plt.title('Top 10 Most Frequent Skills at HDFC Bank')\n",
        "plt.xlabel('Skill')\n",
        "plt.ylabel('Count')\n",
        "plt.xticks(rotation=45, ha='right')\n",
        "plt.tight_layout()\n",
        "plt.show()\n"
      ],
      "metadata": {
        "colab": {
          "base_uri": "https://localhost:8080/",
          "height": 607
        },
        "id": "pAE4-r3jN0I7",
        "outputId": "a86df9d6-bf7a-4e09-c449-02474d3d8cc7"
      },
      "execution_count": 46,
      "outputs": [
        {
          "output_type": "display_data",
          "data": {
            "text/plain": [
              "<Figure size 1000x600 with 1 Axes>"
            ],
            "image/png": "[encoded data removed]"
          },
          "metadata": {}
        }
      ]
    },
    {
      "cell_type": "markdown",
      "source": [
        "##### 3.4. Skiils needed to become DA"
      ],
      "metadata": {
        "id": "LkHoCc-YqApb"
      }
    },
    {
      "cell_type": "code",
      "source": [
        "df[df['job_role'] == 'Data Scientist']['resposibilities'].str.lower().str.split(',').explode().value_counts().head(10)"
      ],
      "metadata": {
        "id": "p4O43i-up_Fz",
        "colab": {
          "base_uri": "https://localhost:8080/",
          "height": 429
        },
        "outputId": "4d2c5c72-0e64-4a85-bb47-c28d1ffdf71b"
      },
      "execution_count": 47,
      "outputs": [
        {
          "output_type": "execute_result",
          "data": {
            "text/plain": [
              "resposibilities\n",
              "python              22\n",
              "machine learning    17\n",
              "tensorflow           9\n",
              "data science         8\n",
              "deep learning        7\n",
              "analytics            6\n",
              "data scientist       6\n",
              "r                    6\n",
              "data analysis        5\n",
              "pytorch              5\n",
              "Name: count, dtype: int64"
            ],
            "text/html": [
              "<div>\n",
              "<style scoped>\n",
              "    .dataframe tbody tr th:only-of-type {\n",
              "        vertical-align: middle;\n",
              "    }\n",
              "\n",
              "    .dataframe tbody tr th {\n",
              "        vertical-align: top;\n",
              "    }\n",
              "\n",
              "    .dataframe thead th {\n",
              "        text-align: right;\n",
              "    }\n",
              "</style>\n",
              "<table border=\"1\" class=\"dataframe\">\n",
              "  <thead>\n",
              "    <tr style=\"text-align: right;\">\n",
              "      <th></th>\n",
              "      <th>count</th>\n",
              "    </tr>\n",
              "    <tr>\n",
              "      <th>resposibilities</th>\n",
              "      <th></th>\n",
              "    </tr>\n",
              "  </thead>\n",
              "  <tbody>\n",
              "    <tr>\n",
              "      <th>python</th>\n",
              "      <td>22</td>\n",
              "    </tr>\n",
              "    <tr>\n",
              "      <th>machine learning</th>\n",
              "      <td>17</td>\n",
              "    </tr>\n",
              "    <tr>\n",
              "      <th>tensorflow</th>\n",
              "      <td>9</td>\n",
              "    </tr>\n",
              "    <tr>\n",
              "      <th>data science</th>\n",
              "      <td>8</td>\n",
              "    </tr>\n",
              "    <tr>\n",
              "      <th>deep learning</th>\n",
              "      <td>7</td>\n",
              "    </tr>\n",
              "    <tr>\n",
              "      <th>analytics</th>\n",
              "      <td>6</td>\n",
              "    </tr>\n",
              "    <tr>\n",
              "      <th>data scientist</th>\n",
              "      <td>6</td>\n",
              "    </tr>\n",
              "    <tr>\n",
              "      <th>r</th>\n",
              "      <td>6</td>\n",
              "    </tr>\n",
              "    <tr>\n",
              "      <th>data analysis</th>\n",
              "      <td>5</td>\n",
              "    </tr>\n",
              "    <tr>\n",
              "      <th>pytorch</th>\n",
              "      <td>5</td>\n",
              "    </tr>\n",
              "  </tbody>\n",
              "</table>\n",
              "</div><br><label><b>dtype:</b> int64</label>"
            ]
          },
          "metadata": {},
          "execution_count": 47
        }
      ]
    },
    {
      "cell_type": "code",
      "source": [
        "import matplotlib.pyplot as plt\n",
        "import numpy as np  # Import numpy for color mapping\n",
        "\n",
        "# Filter responsibilities for HDFC Bank and extract top 10 skills\n",
        "top_skills = df[df['company'] == 'Hdfc Bank']['resposibilities'] \\\n",
        "                .str.lower().str.split(',').explode().value_counts().head(10)\n",
        "\n",
        "# Generate a list of blue shades using a colormap\n",
        "colors = plt.cm.Blues(np.linspace(0.4, 0.8, len(top_skills)))  # Generate shades from a colormap\n",
        "\n",
        "# Create the bar chart with Matplotlib and specify a list of colors\n",
        "plt.figure(figsize=(10, 6))\n",
        "top_skills.plot(kind='bar', color=colors)  # Use the 'colors' variable calculated with Matplotlib's colormap\n",
        "\n",
        "plt.title('Top 10 Most Frequent Skills at HDFC Bank')\n",
        "plt.xlabel('Skill')\n",
        "plt.ylabel('Count')\n",
        "plt.xticks(rotation=45, ha='right')\n",
        "plt.tight_layout()\n",
        "plt.show()\n"
      ],
      "metadata": {
        "colab": {
          "base_uri": "https://localhost:8080/",
          "height": 607
        },
        "id": "BSNIlX4vNeBa",
        "outputId": "dbae491e-6de4-421a-b6c5-e7ac622eb931"
      },
      "execution_count": 48,
      "outputs": [
        {
          "output_type": "display_data",
          "data": {
            "text/plain": [
              "<Figure size 1000x600 with 1 Axes>"
            ],
            "image/png": "[encoded data removed]"
          },
          "metadata": {}
        }
      ]
    },
    {
      "cell_type": "markdown",
      "source": [
        "---\n",
        "\n",
        "### 📊 Final Insights from Job Listings Dataset\n",
        "\n",
        "- **Top Hiring Locations**: Most job opportunities are concentrated in tech hubs such as **Bangalore**, **Hyderabad**, and **Mumbai**.\n",
        "- **Experience Requirements**:\n",
        "  - Average minimum experience required: **~3 to 5 years**\n",
        "  - Most roles target **mid-level professionals**.\n",
        "- **Popular Employers**: Companies like **Accenture**, **HDFC Bank**, and **Mindtree** are among the top recruiters.\n",
        "- **Most In-Demand Skills**: Based on job responsibilities, the top recurring skills include:\n",
        "  - **Team Management**\n",
        "  - **Customer Service**\n",
        "  - **Sales**\n",
        "  - **SQL**\n",
        "  - **Business Analysis**\n",
        "- **Company Ratings**:\n",
        "  - Average rating across companies: **~4.0**\n",
        "  - Indicates overall high employer satisfaction.\n",
        "- **Reviews**:\n",
        "  - Average number of company reviews: **~20,000–30,000**, suggesting well-established employers dominate the listings.\n",
        "\n",
        "These insights can help job seekers align their skills with market demand and give recruiters a clearer picture of the competitive landscape.\n",
        "\n",
        "---\n"
      ],
      "metadata": {
        "id": "ywLxr2lBPsEV"
      }
    },
    {
      "cell_type": "markdown",
      "source": [],
      "metadata": {
        "id": "R4kc5FsGQpWr"
      }
    }
  ]
}